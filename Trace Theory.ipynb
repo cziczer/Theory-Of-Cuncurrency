{
 "cells": [
  {
   "cell_type": "code",
   "execution_count": 1,
   "metadata": {},
   "outputs": [],
   "source": [
    "from graphviz import Digraph\n",
    "import itertools"
   ]
  },
  {
   "cell_type": "code",
   "execution_count": 2,
   "metadata": {},
   "outputs": [],
   "source": [
    "def d_relations(A, I):\n",
    "    return [relation for relation in sorted(itertools.product(A, A)) if relation not in I]"
   ]
  },
  {
   "cell_type": "code",
   "execution_count": 3,
   "metadata": {},
   "outputs": [],
   "source": [
    "def trace(w):\n",
    "    return \"[\" + w + \"]\"\n",
    "#trace - all posibilities form from dependency graph(string permutation), simples just to write w"
   ]
  },
  {
   "cell_type": "code",
   "execution_count": 4,
   "metadata": {},
   "outputs": [],
   "source": [
    "def foata_normal_form(A, I, w):\n",
    "    result = []\n",
    "    # each letter is independent item, abcda - 1st and last 'a' - indepented item\n",
    "    # in result we have pair item + index in w\n",
    "    stacks = generate_stacks(A, I, w)\n",
    "    top_stack_size = max([len(stack) for stack in stacks.values()])\n",
    "\n",
    "    for i in range(top_stack_size):\n",
    "        popped = []\n",
    "        for letter in stacks:\n",
    "            stack = stacks[letter]\n",
    "            if len(stack) > 0 and stack[-1] != '*':\n",
    "                popped_letter = stack.pop()\n",
    "                popped.append(popped_letter)\n",
    "        \n",
    "        #now pop '*' for stacks with letter not in I with popped letters\n",
    "        if not popped:\n",
    "            for letter in stacks:\n",
    "                if len(stacks[letter]) > 0:\n",
    "                    stacks[letter].pop()\n",
    "        else:\n",
    "            for letter in A:\n",
    "                popped_letter = popped[0]\n",
    "                if letter != popped_letter and (letter, popped_letter) not in I and len(stacks[letter]) > 0 and stacks[letter][-1] == '*':\n",
    "                    a = stacks[letter].pop()\n",
    "            result.append(sorted(popped))\n",
    "        \n",
    "    output = ''\n",
    "    for group in result:\n",
    "        output += \"(\" + \"\".join([i[0] for i in group]) + \")\"\n",
    "    print(output)\n",
    "    return result\n",
    "\n",
    "\n",
    "def generate_stacks(A, I, w):\n",
    "    stacks = {letter: [] for letter in A}\n",
    "    for i, a in enumerate(w[::-1]):\n",
    "        stacks[a].append((a, str(w.index(a, len(w)-i-1) + 1)))\n",
    "        for b in A:\n",
    "            if b != a and (a, b) not in I:\n",
    "                stacks[b].append(\"*\")\n",
    "    return stacks"
   ]
  },
  {
   "cell_type": "code",
   "execution_count": 5,
   "metadata": {},
   "outputs": [],
   "source": [
    "def dependency_graph(normal_form, I):\n",
    "    dot = Digraph()\n",
    "\n",
    "    #Labels for nodes\n",
    "    for group in normal_form:\n",
    "        for node in group:\n",
    "            dot.node(node[1], node[0])\n",
    "\n",
    "    # to check if two nodes are connected indirectly\n",
    "    edges = []\n",
    "    result = []\n",
    "    #we go from right to left in foata normal form\n",
    "    for i in range(len(normal_form) - 2, -1, -1): \n",
    "        for u in normal_form[i]: # node\n",
    "            for j in range(i + 1, len(normal_form)):  #i+1, we start with normal_form[-1] so we don't get our of list \n",
    "                for v in normal_form[j]:  # second node\n",
    "                    #we cant have edges a-a, or b-a-d, and b connected with d, we dont want edge b - d\n",
    "                    if (u[0], v[0]) not in I and (u, v) not in edges:\n",
    "                        edges.append((u, v))\n",
    "                        for edge in edges:\n",
    "                            if edge[0] == v:\n",
    "                                edges.append((u, edge[1]))\n",
    "                        dot.edge(u[1], v[1])\n",
    "                        result.append((u[0], v[0]))\n",
    "    print(dot.source)\n",
    "    return result"
   ]
  },
  {
   "cell_type": "code",
   "execution_count": 6,
   "metadata": {},
   "outputs": [],
   "source": [
    "def foata_from_graph(graph, A, w):\n",
    "    I = get_I_from_graps(graph, A)\n",
    "#     I = [('a', 'd'), ('d', 'a'), ('b', 'c'), ('c', 'b')]\n",
    "    print(\"Foata form from graph:\")\n",
    "    foata_normal_form(A, I, w)\n",
    "\n",
    "def get_I_from_graps(graph, A):\n",
    "    I_compl = {letter: set(letter) for letter in A}\n",
    "    for edge in graph:\n",
    "        u = edge[0][0]\n",
    "        v = edge[1][0]\n",
    "        I_compl[u].add(v)\n",
    "        I_compl[v].add(u)\n",
    "    I = set()\n",
    "    for key in I_compl:\n",
    "        for letter in A:\n",
    "            if letter not in I_compl[key]:\n",
    "                I.add((key, letter))\n",
    "                I.add((letter, key))\n",
    "    return I"
   ]
  },
  {
   "cell_type": "code",
   "execution_count": 7,
   "metadata": {},
   "outputs": [],
   "source": [
    "def execute(A, I, w):\n",
    "    print(\"D = \", d_relations(A, I))\n",
    "    print(\"[w]: \", trace(w))\n",
    "    normal_form = foata_normal_form(A, I, w)\n",
    "    graph = dependency_graph(normal_form, I)\n",
    "    foata_from_graph(graph, A, w)"
   ]
  },
  {
   "cell_type": "markdown",
   "metadata": {},
   "source": [
    "## Example 1"
   ]
  },
  {
   "cell_type": "code",
   "execution_count": 8,
   "metadata": {},
   "outputs": [
    {
     "name": "stdout",
     "output_type": "stream",
     "text": [
      "D =  [('a', 'a'), ('a', 'b'), ('a', 'c'), ('b', 'a'), ('b', 'b'), ('b', 'd'), ('c', 'a'), ('c', 'c'), ('c', 'd'), ('d', 'b'), ('d', 'c'), ('d', 'd')]\n",
      "[w]:  [baadcb]\n",
      "(b)(ad)(a)(bc)\n",
      "digraph {\n",
      "\t1 [label=b]\n",
      "\t2 [label=a]\n",
      "\t4 [label=d]\n",
      "\t3 [label=a]\n",
      "\t6 [label=b]\n",
      "\t5 [label=c]\n",
      "\t3 -> 6\n",
      "\t3 -> 5\n",
      "\t2 -> 3\n",
      "\t4 -> 6\n",
      "\t4 -> 5\n",
      "\t1 -> 2\n",
      "\t1 -> 4\n",
      "}\n",
      "Foata form from graph:\n",
      "(b)(ad)(a)(bc)\n"
     ]
    }
   ],
   "source": [
    "A = {'a', 'b', 'c', 'd'}\n",
    "I = [('a', 'd'), ('d', 'a'), ('b', 'c'), ('c', 'b')]\n",
    "w = 'baadcb'\n",
    "execute(A, I, w)"
   ]
  },
  {
   "cell_type": "markdown",
   "metadata": {},
   "source": [
    "## Example 2"
   ]
  },
  {
   "cell_type": "code",
   "execution_count": 9,
   "metadata": {
    "scrolled": true
   },
   "outputs": [
    {
     "name": "stdout",
     "output_type": "stream",
     "text": [
      "D =  [('a', 'a'), ('a', 'b'), ('a', 'c'), ('a', 'e'), ('a', 'f'), ('b', 'a'), ('b', 'b'), ('b', 'c'), ('b', 'd'), ('b', 'f'), ('c', 'a'), ('c', 'b'), ('c', 'c'), ('c', 'e'), ('d', 'b'), ('d', 'd'), ('d', 'e'), ('d', 'f'), ('e', 'a'), ('e', 'c'), ('e', 'd'), ('e', 'e'), ('e', 'f'), ('f', 'a'), ('f', 'b'), ('f', 'd'), ('f', 'e'), ('f', 'f')]\n",
      "[w]:  [acdcfbbe]\n",
      "(ad)(c)(cf)(be)(b)\n",
      "digraph {\n",
      "\t1 [label=a]\n",
      "\t3 [label=d]\n",
      "\t2 [label=c]\n",
      "\t4 [label=c]\n",
      "\t5 [label=f]\n",
      "\t6 [label=b]\n",
      "\t8 [label=e]\n",
      "\t7 [label=b]\n",
      "\t6 -> 7\n",
      "\t4 -> 6\n",
      "\t4 -> 8\n",
      "\t5 -> 6\n",
      "\t5 -> 8\n",
      "\t2 -> 4\n",
      "\t1 -> 2\n",
      "\t1 -> 5\n",
      "\t3 -> 5\n",
      "}\n",
      "Foata form from graph:\n",
      "(ad)(c)(cf)(be)(b)\n"
     ]
    }
   ],
   "source": [
    "A = {'a', 'b', 'c', 'd', 'e', 'f'}\n",
    "I = {('a', 'd'), ('d', 'a'), ('b', 'e'), ('e', 'b'), ('c', 'd'), ('d', 'c'), ('c', 'f'), ('f', 'c')}\n",
    "w = 'acdcfbbe'\n",
    "execute(A, I, w)"
   ]
  },
  {
   "cell_type": "markdown",
   "metadata": {},
   "source": [
    "## Example 3"
   ]
  },
  {
   "cell_type": "code",
   "execution_count": 10,
   "metadata": {},
   "outputs": [
    {
     "name": "stdout",
     "output_type": "stream",
     "text": [
      "D =  [('a', 'a'), ('a', 'b'), ('a', 'c'), ('a', 'd'), ('a', 'e'), ('b', 'a'), ('b', 'b'), ('b', 'c'), ('c', 'a'), ('c', 'b'), ('c', 'c'), ('c', 'd'), ('c', 'e'), ('d', 'a'), ('d', 'c'), ('d', 'd'), ('d', 'e'), ('e', 'a'), ('e', 'c'), ('e', 'd'), ('e', 'e')]\n",
      "[w]:  [acebdac]\n",
      "(a)(c)(be)(d)(a)(c)\n",
      "digraph {\n",
      "\t1 [label=a]\n",
      "\t2 [label=c]\n",
      "\t4 [label=b]\n",
      "\t3 [label=e]\n",
      "\t5 [label=d]\n",
      "\t6 [label=a]\n",
      "\t7 [label=c]\n",
      "\t6 -> 7\n",
      "\t5 -> 6\n",
      "\t4 -> 6\n",
      "\t3 -> 5\n",
      "\t2 -> 4\n",
      "\t2 -> 3\n",
      "\t1 -> 2\n",
      "}\n",
      "Foata form from graph:\n",
      "(a)(ce)(bd)(a)(c)\n"
     ]
    }
   ],
   "source": [
    "A = {'a', 'b', 'c', 'd', 'e'}\n",
    "I = {('b', 'd'), ('d', 'b'), ('b', 'e'), ('e', 'b')}\n",
    "w = 'acebdac'\n",
    "execute(A, I, w)"
   ]
  },
  {
   "cell_type": "code",
   "execution_count": null,
   "metadata": {},
   "outputs": [],
   "source": []
  }
 ],
 "metadata": {
  "kernelspec": {
   "display_name": "Python 3",
   "language": "python",
   "name": "python3"
  },
  "language_info": {
   "codemirror_mode": {
    "name": "ipython",
    "version": 3
   },
   "file_extension": ".py",
   "mimetype": "text/x-python",
   "name": "python",
   "nbconvert_exporter": "python",
   "pygments_lexer": "ipython3",
   "version": "3.8.3"
  }
 },
 "nbformat": 4,
 "nbformat_minor": 4
}
